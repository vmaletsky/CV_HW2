{
 "cells": [
  {
   "cell_type": "code",
   "execution_count": 26,
   "metadata": {},
   "outputs": [],
   "source": [
    "import cv2"
   ]
  },
  {
   "cell_type": "code",
   "execution_count": 27,
   "metadata": {},
   "outputs": [],
   "source": [
    "import numpy as np\n",
    "import time\n",
    "import matplotlib.pylab as plt\n",
    "\n",
    "def distance(a, b, A_padding, B, p_size):\n",
    "    p = p_size // 2\n",
    "    patch_a = A_padding[a[0]:a[0]+p_size, a[1]:a[1]+p_size, :]\n",
    "    patch_b = B[b[0]-p:b[0]+p+1, b[1]-p:b[1]+p+1, :]\n",
    "    temp = patch_b - patch_a\n",
    "    num = np.sum(1 - np.int32(np.isnan(temp)))\n",
    "    dist = np.sum(np.square(np.nan_to_num(temp))) / num\n",
    "    return dist\n",
    "\n",
    "def reconstruct_image(f, img_A, img_B):\n",
    "    A_h, A_w, depth = img_A.shape\n",
    "    temp = np.zeros((A_h, A_w))\n",
    "    for i in range(A_h):\n",
    "        for j in range(A_w):\n",
    "            temp[i, j, :] = img_B[f[i, j][0], f[i, j][1], :]\n",
    "    return temp\n",
    "\n",
    "\n",
    "def init(A, B, p_size):\n",
    "    A_h, A_w, depth_A = A.shape\n",
    "    B_h,B_w, depth_B = B.shape\n",
    "    p = p_size // 2\n",
    "    random_B_r = np.random.randint(p, B_h-p, [A_h, A_w])\n",
    "    random_B_c = np.random.randint(p, B_w-p, [A_h, A_w])\n",
    "    A_padded = np.ones([A_h+p*2, A_w+p*2, 3]) * np.nan #\n",
    "    A_padded[p:A_h+p, p:A_w+p, :] = A\n",
    "    f = np.zeros([A_h, A_w], dtype=object)\n",
    "    dist = np.zeros([A_h, A_w])\n",
    "    for i in range(A_h):\n",
    "        for j in range(A_w):\n",
    "            a = np.array([i, j])\n",
    "            b = np.array([random_B_r[i, j], random_B_c[i, j]], dtype=np.int32)\n",
    "            f[i, j] = b\n",
    "            dist[i, j] = distance(a, b, A_padded, B, p_size)\n",
    "    return f, dist, A_padded\n",
    "\n",
    "def propagate(f, a, dist, A_padding, B, p_size, is_odd):\n",
    "    A_h = np.size(A_padding, 0) - p_size + 1\n",
    "    A_w = np.size(A_padding, 1) - p_size + 1\n",
    "    x = a[0]\n",
    "    y = a[1]\n",
    "    if is_odd:\n",
    "        d_left = dist[max(x-1, 0), y]\n",
    "        d_up = dist[x, max(y-1, 0)]\n",
    "        d_current = dist[x, y]\n",
    "        idx = np.argmin(np.array([d_current, d_left, d_up]))\n",
    "        if idx == 1:\n",
    "            f[x, y] = f[max(x - 1, 0), y]\n",
    "            dist[x, y] = distance(a, f[x, y], A_padding, B, p_size)\n",
    "        if idx == 2:\n",
    "            f[x, y] = f[x, max(y - 1, 0)]\n",
    "            dist[x, y] = distance(a, f[x, y], A_padding, B, p_size)\n",
    "    else:\n",
    "        d_right = dist[min(x + 1, A_h-1), y]\n",
    "        d_down = dist[x, min(y + 1, A_w-1)]\n",
    "        d_current = dist[x, y]\n",
    "        idx = np.argmin(np.array([d_current, d_right, d_down]))\n",
    "        if idx == 1:\n",
    "            f[x, y] = f[min(x + 1, A_h-1), y]\n",
    "            dist[x, y] = distance(a, f[x, y], A_padding, B, p_size)\n",
    "        if idx == 2:\n",
    "            f[x, y] = f[x, min(y + 1, A_w-1)]\n",
    "            dist[x, y] = distance(a, f[x, y], A_padding, B, p_size)\n",
    "\n",
    "\n"
   ]
  },
  {
   "cell_type": "code",
   "execution_count": 28,
   "metadata": {},
   "outputs": [],
   "source": [
    "def random_search(f, a, dist, A_padded, B, patch_size, alpha):\n",
    "    x = a[0]\n",
    "    y = a[1]\n",
    "    B_h = np.size(B, 0)\n",
    "    B_w = np.size(B, 1)\n",
    "    p = patch_size // 2\n",
    "    i = 4\n",
    "    search_h = B_h * alpha ** i\n",
    "    search_w = B_w * alpha ** i\n",
    "    b_x = f[x, y][0]\n",
    "    b_y = f[x, y][1]\n",
    "    while search_h > 1 and search_w > 1:\n",
    "        search_min_r = max(b_x - search_h, p)\n",
    "        search_max_r = min(b_x + search_h, B_h-p)\n",
    "        random_b_x = np.random.randint(search_min_r, search_max_r)\n",
    "        search_min_c = max(b_y - search_w, p)\n",
    "        search_max_c = min(b_y + search_w, B_w - p)\n",
    "        random_b_y = np.random.randint(search_min_c, search_max_c)\n",
    "        search_h = B_h * alpha ** i\n",
    "        search_w = B_w * alpha ** i\n",
    "        b = np.array([random_b_x, random_b_y])\n",
    "        d = distance(a, b, A_padded, B, patch_size)\n",
    "        if d < dist[x, y]:\n",
    "            dist[x, y] = d\n",
    "            f[x, y] = b\n",
    "        i += 1"
   ]
  },
  {
   "cell_type": "code",
   "execution_count": 29,
   "metadata": {},
   "outputs": [],
   "source": [
    "def nearest_neighbor_field(img, ref, p_size, iter_count):\n",
    "    A_h, A_w, depth = img.shape\n",
    "    f, dist, img_padding = init(img, ref, p_size)\n",
    "    for iter_count in range(1, iter_count + 1):\n",
    "        if iter_count % 2 == 0:\n",
    "            for i in range(A_h - 1, -1, -1):\n",
    "                for j in range(A_w - 1, -1, -1):\n",
    "                    a = np.array([i, j])\n",
    "                    propagate(f, a, dist, img_padding, ref, p_size, False)\n",
    "                    random_search(f, a, dist, img_padding, ref, p_size, 0.5)\n",
    "        else:\n",
    "            for i in range(A_h):\n",
    "                for j in range(A_w):\n",
    "                    a = np.array([i, j])\n",
    "                    propagate(f, a, dist, img_padding, ref, p_size, True)\n",
    "                    random_search(f, a, dist, img_padding, ref, p_size, 0.5)\n",
    "        print(\"iter %d\" % (iter_count))\n",
    "    return f"
   ]
  },
  {
   "cell_type": "code",
   "execution_count": 30,
   "metadata": {},
   "outputs": [
    {
     "name": "stdout",
     "output_type": "stream",
     "text": [
      "started...\n",
      "iter 1\n",
      "iter 2\n",
      "iter 3\n",
      "iter 4\n",
      "time:  92.56107306480408\n"
     ]
    },
    {
     "ename": "IndexError",
     "evalue": "too many indices for array",
     "output_type": "error",
     "traceback": [
      "\u001b[0;31m---------------------------------------------------------------------------\u001b[0m",
      "\u001b[0;31mIndexError\u001b[0m                                Traceback (most recent call last)",
      "\u001b[0;32m<ipython-input-30-a6bffe45ee1a>\u001b[0m in \u001b[0;36m<module>\u001b[0;34m\u001b[0m\n\u001b[1;32m      9\u001b[0m \u001b[0mend\u001b[0m \u001b[0;34m=\u001b[0m \u001b[0mtime\u001b[0m\u001b[0;34m.\u001b[0m\u001b[0mtime\u001b[0m\u001b[0;34m(\u001b[0m\u001b[0;34m)\u001b[0m\u001b[0;34m\u001b[0m\u001b[0;34m\u001b[0m\u001b[0m\n\u001b[1;32m     10\u001b[0m \u001b[0mprint\u001b[0m\u001b[0;34m(\u001b[0m\u001b[0;34m\"time: \"\u001b[0m\u001b[0;34m,\u001b[0m \u001b[0mend\u001b[0m \u001b[0;34m-\u001b[0m \u001b[0mstart\u001b[0m\u001b[0;34m)\u001b[0m\u001b[0;34m\u001b[0m\u001b[0;34m\u001b[0m\u001b[0m\n\u001b[0;32m---> 11\u001b[0;31m \u001b[0mreconstr_img\u001b[0m \u001b[0;34m=\u001b[0m \u001b[0mreconstruct_image\u001b[0m\u001b[0;34m(\u001b[0m\u001b[0mf\u001b[0m\u001b[0;34m,\u001b[0m \u001b[0mimg\u001b[0m\u001b[0;34m,\u001b[0m \u001b[0mref\u001b[0m\u001b[0;34m)\u001b[0m\u001b[0;34m\u001b[0m\u001b[0;34m\u001b[0m\u001b[0m\n\u001b[0m\u001b[1;32m     12\u001b[0m \u001b[0mplt\u001b[0m\u001b[0;34m.\u001b[0m\u001b[0mimshow\u001b[0m\u001b[0;34m(\u001b[0m\u001b[0mreconstr_img\u001b[0m\u001b[0;34m)\u001b[0m\u001b[0;34m\u001b[0m\u001b[0;34m\u001b[0m\u001b[0m\n",
      "\u001b[0;32m<ipython-input-27-2e8613947cf6>\u001b[0m in \u001b[0;36mreconstruct_image\u001b[0;34m(f, img_A, img_B)\u001b[0m\n\u001b[1;32m     17\u001b[0m     \u001b[0;32mfor\u001b[0m \u001b[0mi\u001b[0m \u001b[0;32min\u001b[0m \u001b[0mrange\u001b[0m\u001b[0;34m(\u001b[0m\u001b[0mA_h\u001b[0m\u001b[0;34m)\u001b[0m\u001b[0;34m:\u001b[0m\u001b[0;34m\u001b[0m\u001b[0;34m\u001b[0m\u001b[0m\n\u001b[1;32m     18\u001b[0m         \u001b[0;32mfor\u001b[0m \u001b[0mj\u001b[0m \u001b[0;32min\u001b[0m \u001b[0mrange\u001b[0m\u001b[0;34m(\u001b[0m\u001b[0mA_w\u001b[0m\u001b[0;34m)\u001b[0m\u001b[0;34m:\u001b[0m\u001b[0;34m\u001b[0m\u001b[0;34m\u001b[0m\u001b[0m\n\u001b[0;32m---> 19\u001b[0;31m             \u001b[0mtemp\u001b[0m\u001b[0;34m[\u001b[0m\u001b[0mi\u001b[0m\u001b[0;34m,\u001b[0m \u001b[0mj\u001b[0m\u001b[0;34m,\u001b[0m \u001b[0;34m:\u001b[0m\u001b[0;34m]\u001b[0m \u001b[0;34m=\u001b[0m \u001b[0mimg_B\u001b[0m\u001b[0;34m[\u001b[0m\u001b[0mf\u001b[0m\u001b[0;34m[\u001b[0m\u001b[0mi\u001b[0m\u001b[0;34m,\u001b[0m \u001b[0mj\u001b[0m\u001b[0;34m]\u001b[0m\u001b[0;34m[\u001b[0m\u001b[0;36m0\u001b[0m\u001b[0;34m]\u001b[0m\u001b[0;34m,\u001b[0m \u001b[0mf\u001b[0m\u001b[0;34m[\u001b[0m\u001b[0mi\u001b[0m\u001b[0;34m,\u001b[0m \u001b[0mj\u001b[0m\u001b[0;34m]\u001b[0m\u001b[0;34m[\u001b[0m\u001b[0;36m1\u001b[0m\u001b[0;34m]\u001b[0m\u001b[0;34m,\u001b[0m \u001b[0;34m:\u001b[0m\u001b[0;34m]\u001b[0m\u001b[0;34m\u001b[0m\u001b[0;34m\u001b[0m\u001b[0m\n\u001b[0m\u001b[1;32m     20\u001b[0m     \u001b[0;32mreturn\u001b[0m \u001b[0mtemp\u001b[0m\u001b[0;34m\u001b[0m\u001b[0;34m\u001b[0m\u001b[0m\n\u001b[1;32m     21\u001b[0m \u001b[0;34m\u001b[0m\u001b[0m\n",
      "\u001b[0;31mIndexError\u001b[0m: too many indices for array"
     ]
    }
   ],
   "source": [
    "\n",
    "img = plt.imread(\"frames/v001.jpg\")\n",
    "ref = plt.imread(\"frames/v012.jpg\")\n",
    "p_size = 3\n",
    "itr = 4\n",
    "start = time.time()\n",
    "print(\"started...\")\n",
    "f = nearest_neighbor_field(img, ref, p_size, itr)\n",
    "end = time.time()\n",
    "print(\"time: \", end - start)\n",
    "reconstr_img = reconstruct_image(f, img, ref)\n",
    "plt.imshow(reconstr_img)"
   ]
  }
 ],
 "metadata": {
  "kernelspec": {
   "display_name": "Python 3",
   "language": "python",
   "name": "python3"
  },
  "language_info": {
   "codemirror_mode": {
    "name": "ipython",
    "version": 3
   },
   "file_extension": ".py",
   "mimetype": "text/x-python",
   "name": "python",
   "nbconvert_exporter": "python",
   "pygments_lexer": "ipython3",
   "version": "3.7.3"
  }
 },
 "nbformat": 4,
 "nbformat_minor": 2
}
